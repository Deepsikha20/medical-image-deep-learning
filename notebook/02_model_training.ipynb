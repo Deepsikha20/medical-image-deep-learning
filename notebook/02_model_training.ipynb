{
 "cells": [
  {
   "cell_type": "markdown",
   "metadata": {},
   "source": [
    "# Medical Image Model Training\n",
    "\n",
    "This notebook demonstrates the complete training pipeline for medical image analysis models.\n",
    "\n",
    "## Contents\n",
    "1. Environment Setup\n",
    "2. Data Loading\n",
    "3. Model Architecture\n",
    "4. Training Configuration\n",
    "5. Model Training\n",
    "6. Results Analysis"
   ]
  },
  {
   "cell_type": "code",
   "execution_count": null,
   "metadata": {},
   "outputs": [],
   "source": [
    "import sys\n",
    "import os\n",
    "from pathlib import Path\n",
    "\n",
    "# Add src to path\n",
    "sys.path.append('../src')\n",
    "\n",
    "import numpy as np\n",
    "import pandas as pd\n",
    "import matplotlib.pyplot as plt\n",
    "import seaborn as sns\n",
    "import tensorflow as tf\n",
    "from tensorflow import keras\n",
    "\n",
    "# Custom imports\n",
    "from data.data_loader import MedicalImageDataLoader\n",
    "from models.cnn_classifier import ModelBuilder\n",
    "from utils.callbacks import create_callbacks\n",
    "from utils.visualization import plot_training_history, visualize_predictions\n",
    "\n",
    "# Set random seeds for reproducibility\n",
    "np.random.seed(42)\n",
    "tf.random.set_seed(42)\n",
    "\n",
    "print(f'TensorFlow version: {tf.__version__}')\n",
    "print(f'GPU Available: {tf.config.list_physical_devices("GPU")}')\n",
    "\n",
    "%matplotlib inline"
   ]
  },
  {
   "cell_type": "markdown",
   "metadata": {},
   "source": [
    "## 1. Environment Setup"
   ]
  },
  {
   "cell_type": "code",
   "execution_count": null,
   "metadata": {},
   "outputs": [],
   "source": [
    "# Configure GPU\n",
    "gpus = tf.config.experimental.list_physical_devices('GPU')\n",
    "if gpus:\n",
    "    try:\n",
    "        for gpu in gpus:\n",
    "            tf.config.experimental.set_memory_growth(gpu, True)\n",
    "        print(f'Using GPU: {gpus}')\n",
    "    except RuntimeError as e:\n",
    "        print(f'GPU configuration error: {e}')\n",
    "else:\n",
    "    print('No GPU available, using CPU')\n",
    "\n",
    "# Create output directories\n",
    "output_dir = Path('../outputs/notebook_training')\n",
    "model_dir = output_dir / 'models'\n",
    "logs_dir = output_dir / 'logs'\n",
    "plots_dir = output_dir / 'plots'\n",
    "\n",
    "for dir_path in [model_dir, logs_dir, plots_dir]:\n",
    "    dir_path.mkdir(parents=True, exist_ok=True)\n",
    "\n",
    "print(f'Output directory: {output_dir}')"
   ]
  },
  {
   "cell_type": "markdown",
   "metadata": {},
   "source": [
    "## 2. Data Loading"
   ]
  },
  {
   "cell_type": "code",
   "execution_count": null,
   "metadata": {},
   "outputs": [],
   "source": [
    "# Initialize data loader\n",
    "data_loader = MedicalImageDataLoader(\n",
    "    data_dir='../data/processed',\n",
    "    dataset_name='chest_xray',\n",
    "    batch_size=32,\n",
    "    image_size=(224, 224),\n",
    "    num_classes=2,\n",
    "    augment=True\n",
    ")\n",
    "\n",
    "# Get dataset information\n",
    "dataset_info = data_loader.get_dataset_info()\n",
    "print('Dataset Info:')\n",
    "for key, value in dataset_info.items():\n",
    "    print(f'  {key}: {value}')\n",
    "\n",
    "# Create datasets\n",
    "train_dataset = data_loader.create_tf_dataset('train')\n",
    "val_dataset = data_loader.create_tf_dataset('val')\n",
    "test_dataset = data_loader.create_tf_dataset('test')\n",
    "\n",
    "print('\\nDatasets created successfully!')"
   ]
  },
  {
   "cell_type": "markdown",
   "metadata": {},
   "source": [
    "## 3. Model Architecture"
   ]
  },
  {
   "cell_type": "code",
   "execution_count": null,
   "metadata": {},
   "outputs": [],
   "source": [
    "# Build model\n",
    "model = ModelBuilder.build_model(\n",
    "    model_type='resnet50',\n",
    "    input_shape=(224, 224, 3),\n",
    "    num_classes=2,\n",
    "    dropout_rate=0.5\n",
    ")\n",
    "\n",
    "# Compile model\n",
    "model = ModelBuilder.compile_model(\n",
    "    model,\n",
    "    optimizer='adam',\n",
    "    learning_rate=0.001,\n",
    "    loss='categorical_crossentropy',\n",
    "    metrics=['accuracy', 'precision', 'recall']\n",
    ")\n",
    "\n",
    "print(f'Model built with {model.count_params():,} parameters')\n",
    "\n",
    "# Display model summary\n",
    "model.summary()"
   ]
  },
  {
   "cell_type": "markdown",
   "metadata": {},
   "source": [
    "## 4. Training Configuration"
   ]
  },
  {
   "cell_type": "code",
   "execution_count": null,
   "metadata": {},
   "outputs": [],
   "source": [
    "# Training parameters\n",
    "EPOCHS = 20  # Reduced for notebook demonstration\n",
    "BATCH_SIZE = 32\n",
    "\n",
    "# Calculate steps\n",
    "train_steps = len(data_loader.splits['train']) // BATCH_SIZE\n",
    "val_steps = len(data_loader.splits['val']) // BATCH_SIZE\n",
    "\n",
    "print(f'Training steps per epoch: {train_steps}')\n",
    "print(f'Validation steps per epoch: {val_steps}')\n",
    "\n",
    "# Setup callbacks\n",
    "callbacks = create_callbacks(\n",
    "    model_dir=model_dir,\n",
    "    logs_dir=logs_dir,\n",
    "    patience=5,\n",
    "    monitor='val_loss',\n",
    "    save_best_only=True\n",
    ")\n",
    "\n",
    "print(f'Configured {len(callbacks)} callbacks')"
   ]
  },
  {
   "cell_type": "markdown",
   "metadata": {},
   "source": [
    "## 5. Model Training"
   ]
  },
  {
   "cell_type": "code",
   "execution_count": null,
   "metadata": {},
   "outputs": [],
   "source": [
    "# Train model\n",
    "print('Starting training...')\n",
    "history = model.fit(\n",
    "    train_dataset,\n",
    "    epochs=EPOCHS,\n",
    "    validation_data=val_dataset,\n",
    "    steps_per_epoch=train_steps,\n",
    "    validation_steps=val_steps,\n",
    "    callbacks=callbacks,\n",
    "    verbose=1\n",
    ")\n",
    "\n",
    "print('Training completed!')"
   ]
  },
  {
   "cell_type": "markdown",
   "metadata": {},
   "source": [
    "## 6. Results Analysis"
   ]
  },
  {
   "cell_type": "code",
   "execution_count": null,
   "metadata": {},
   "outputs": [],
   "source": [
    "# Plot training history\n",
    "plot_training_history(history)\n",
    "\n",
    "# Get final metrics\n",
    "final_metrics = {\n",
    "    'train_loss': history.history['loss'][-1],\n",
    "    'train_accuracy': history.history['accuracy'][-1],\n",
    "    'val_loss': history.history['val_loss'][-1],\n",
    "    'val_accuracy': history.history['val_accuracy'][-1]\n",
    "}\n",
    "\n",
    "print('\\nFinal Training Metrics:')\n",
    "for metric, value in final_metrics.items():\n",
    "    print(f'  {metric}: {value:.4f}')"
   ]
  },
  {
   "cell_type": "code",
   "execution_count": null,
   "metadata": {},
   "outputs": [],
   "source": [
    "# Evaluate on test set\n",
    "print('Evaluating on test set...')\n",
    "test_results = model.evaluate(test_dataset, verbose=1)\n",
    "\n",
    "test_metrics = dict(zip(model.metrics_names, test_results))\n",
    "print('\\nTest Results:')\n",
    "for metric, value in test_metrics.items():\n",
    "    print(f'  {metric}: {value:.4f}')"
   ]
  },
  {
   "cell_type": "code",
   "execution_count": null,
   "metadata": {},
   "outputs": [],
   "source": [
    "# Visualize predictions\n",
    "print('Generating prediction visualizations...')\n",
    "visualize_predictions(model, data_loader, split='test', num_samples=8)"
   ]
  },
  {
   "cell_type": "markdown",
   "metadata": {},
   "source": [
    "## Summary\n",
    "\n",
    "This notebook demonstrated:\n",
    "- Complete training pipeline setup\n",
    "- Model architecture selection and compilation\n",
    "- Training with callbacks and monitoring\n",
    "- Results visualization and analysis\n",
    "\n",
    "The trained model can now be used for medical image classification tasks."
   ]
  }
 ],
 "metadata": {
  "kernelspec": {
   "display_name": "Python 3",
   "language": "python",
   "name": "python3"
  },
  "language_info": {
   "codemirror_mode": {
    "name": "ipython",
    "version": 3
   },
   "file_extension": ".py",
   "name": "python",
   "nbconvert_exporter": "python",
   "pygments_lexer": "ipython3",
   "version": "3.8.0"
  }
 },
 "nbformat": 4,
 "nbformat_minor": 4
}