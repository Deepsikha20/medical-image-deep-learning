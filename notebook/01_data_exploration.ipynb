{
 "cells": [
  {
   "cell_type": "markdown",
   "metadata": {},
   "source": [
    "# Medical Image Data Exploration\n",
    "\n",
    "This notebook provides comprehensive exploration of medical imaging datasets.\n",
    "\n",
    "## Contents\n",
    "1. Dataset Overview\n",
    "2. Image Statistics\n",
    "3. Class Distribution\n",
    "4. Sample Visualizations\n",
    "5. Quality Assessment"
   ]
  },
  {
   "cell_type": "code",
   "execution_count": null,
   "metadata": {},
   "outputs": [],
   "source": [
    "import sys\n",
    "import os\n",
    "from pathlib import Path\n",
    "\n",
    "# Add src to path\n",
    "sys.path.append('../src')\n",
    "\n",
    "import numpy as np\n",
    "import pandas as pd\n",
    "import matplotlib.pyplot as plt\n",
    "import seaborn as sns\n",
    "import cv2\n",
    "from PIL import Image\n",
    "\n",
    "# Custom imports\n",
    "from data.data_loader import MedicalImageDataLoader\n",
    "from utils.visualization import visualize_sample_images, visualize_data_distribution\n",
    "\n",
    "# Set style\n",
    "plt.style.use('seaborn-v0_8')\n",
    "sns.set_palette('husl')\n",
    "%matplotlib inline"
   ]
  },
  {
   "cell_type": "markdown",
   "metadata": {},
   "source": [
    "## 1. Dataset Overview"
   ]
  },
  {
   "cell_type": "code",
   "execution_count": null,
   "metadata": {},
   "outputs": [],
   "source": [
    "# Initialize data loader\n",
    "data_loader = MedicalImageDataLoader(\n",
    "    data_dir='../data/processed',\n",
    "    dataset_name='chest_xray',\n",
    "    batch_size=32,\n",
    "    image_size=(224, 224),\n",
    "    num_classes=2\n",
    ")\n",
    "\n",
    "# Get dataset information\n",
    "dataset_info = data_loader.get_dataset_info()\n",
    "\n",
    "print('Dataset Information:')\n",
    "print('='*50)\n",
    "for key, value in dataset_info.items():\n",
    "    print(f'{key}: {value}')"
   ]
  },
  {
   "cell_type": "markdown",
   "metadata": {},
   "source": [
    "## 2. Image Statistics"
   ]
  },
  {
   "cell_type": "code",
   "execution_count": null,
   "metadata": {},
   "outputs": [],
   "source": [
    "# Analyze image properties\n",
    "def analyze_image_properties(data_dir, dataset_name, num_samples=100):\n",
    "    dataset_dir = Path(data_dir) / dataset_name\n",
    "    \n",
    "    image_files = []\n",
    "    for ext in ['.jpg', '.jpeg', '.png']:\n",
    "        image_files.extend(list(dataset_dir.rglob(f'*{ext}')))\n",
    "    \n",
    "    # Sample random images\n",
    "    sample_files = np.random.choice(image_files, min(num_samples, len(image_files)), replace=False)\n",
    "    \n",
    "    widths = []\n",
    "    heights = []\n",
    "    channels = []\n",
    "    file_sizes = []\n",
    "    \n",
    "    for img_path in sample_files:\n",
    "        try:\n",
    "            img = Image.open(img_path)\n",
    "            w, h = img.size\n",
    "            widths.append(w)\n",
    "            heights.append(h)\n",
    "            channels.append(len(img.getbands()))\n",
    "            file_sizes.append(img_path.stat().st_size / 1024)  # KB\n",
    "        except Exception as e:\n",
    "            print(f'Error processing {img_path}: {e}')\n",
    "    \n",
    "    return {\n",
    "        'widths': widths,\n",
    "        'heights': heights,\n",
    "        'channels': channels,\n",
    "        'file_sizes': file_sizes\n",
    "    }\n",
    "\n",
    "# Analyze images\n",
    "stats = analyze_image_properties('../data/processed', 'chest_xray')\n",
    "\n",
    "# Create visualization\n",
    "fig, axes = plt.subplots(2, 2, figsize=(15, 10))\n",
    "\n",
    "# Width distribution\n",
    "axes[0, 0].hist(stats['widths'], bins=30, alpha=0.7)\n",
    "axes[0, 0].set_title('Image Width Distribution')\n",
    "axes[0, 0].set_xlabel('Width (pixels)')\n",
    "axes[0, 0].set_ylabel('Frequency')\n",
    "\n",
    "# Height distribution\n",
    "axes[0, 1].hist(stats['heights'], bins=30, alpha=0.7)\n",
    "axes[0, 1].set_title('Image Height Distribution')\n",
    "axes[0, 1].set_xlabel('Height (pixels)')\n",
    "axes[0, 1].set_ylabel('Frequency')\n",
    "\n",
    "# File size distribution\n",
    "axes[1, 0].hist(stats['file_sizes'], bins=30, alpha=0.7)\n",
    "axes[1, 0].set_title('File Size Distribution')\n",
    "axes[1, 0].set_xlabel('Size (KB)')\n",
    "axes[1, 0].set_ylabel('Frequency')\n",
    "\n",
    "# Aspect ratio\n",
    "aspect_ratios = [w/h for w, h in zip(stats['widths'], stats['heights'])]\n",
    "axes[1, 1].hist(aspect_ratios, bins=30, alpha=0.7)\n",
    "axes[1, 1].set_title('Aspect Ratio Distribution')\n",
    "axes[1, 1].set_xlabel('Aspect Ratio (W/H)')\n",
    "axes[1, 1].set_ylabel('Frequency')\n",
    "\n",
    "plt.tight_layout()\n",
    "plt.show()\n",
    "\n",
    "# Print statistics\n",
    "print('Image Statistics:')\n",
    "print(f'Width - Mean: {np.mean(stats["widths"]):.1f}, Std: {np.std(stats["widths"]):.1f}')\n",
    "print(f'Height - Mean: {np.mean(stats["heights"]):.1f}, Std: {np.std(stats["heights"]):.1f}')\n",
    "print(f'File Size - Mean: {np.mean(stats["file_sizes"]):.1f} KB, Std: {np.std(stats["file_sizes"]):.1f} KB')\n",
    "print(f'Channels - Mode: {max(set(stats["channels"]), key=stats["channels"].count)}')"
   ]
  },
  {
   "cell_type": "markdown",
   "metadata": {},
   "source": [
    "## 3. Class Distribution"
   ]
  },
  {
   "cell_type": "code",
   "execution_count": null,
   "metadata": {},
   "outputs": [],
   "source": [
    "# Visualize class distribution\n",
    "visualize_data_distribution(data_loader)"
   ]
  },
  {
   "cell_type": "markdown",
   "metadata": {},
   "source": [
    "## 4. Sample Visualizations"
   ]
  },
  {
   "cell_type": "code",
   "execution_count": null,
   "metadata": {},
   "outputs": [],
   "source": [
    "# Visualize sample images from each split\n",
    "for split in ['train', 'val', 'test']:\n",
    "    try:\n",
    "        print(f'\\n{split.upper()} SET SAMPLES:')\n",
    "        visualize_sample_images(data_loader, split=split, num_samples=8)\n",
    "    except Exception as e:\n",
    "        print(f'Could not visualize {split} set: {e}')"
   ]
  },
  {
   "cell_type": "markdown",
   "metadata": {},
   "source": [
    "## 5. Quality Assessment"
   ]
  },
  {
   "cell_type": "code",
   "execution_count": null,
   "metadata": {},
   "outputs": [],
   "source": [
    "# Check for corrupted or low-quality images\n",
    "def assess_image_quality(data_dir, dataset_name, min_resolution=32):\n",
    "    dataset_dir = Path(data_dir) / dataset_name\n",
    "    \n",
    "    issues = {\n",
    "        'corrupted': [],\n",
    "        'low_resolution': [],\n",
    "        'wrong_format': []\n",
    "    }\n",
    "    \n",
    "    image_files = []\n",
    "    for ext in ['.jpg', '.jpeg', '.png', '.bmp']:\n",
    "        image_files.extend(list(dataset_dir.rglob(f'*{ext}')))\n",
    "    \n",
    "    print(f'Checking {len(image_files)} images for quality issues...')\n",
    "    \n",
    "    for img_path in image_files[:100]:  # Check first 100 images\n",
    "        try:\n",
    "            img = Image.open(img_path)\n",
    "            w, h = img.size\n",
    "            \n",
    "            # Check resolution\n",
    "            if w < min_resolution or h < min_resolution:\n",
    "                issues['low_resolution'].append(str(img_path))\n",
    "            \n",
    "            # Check if image can be loaded as array\n",
    "            img_array = np.array(img)\n",
    "            if img_array.size == 0:\n",
    "                issues['corrupted'].append(str(img_path))\n",
    "                \n",
    "        except Exception as e:\n",
    "            issues['corrupted'].append(str(img_path))\n",
    "    \n",
    "    return issues\n",
    "\n",
    "# Assess quality\n",
    "quality_issues = assess_image_quality('../data/processed', 'chest_xray')\n",
    "\n",
    "print('Quality Assessment Results:')\n",
    "print('='*40)\n",
    "for issue_type, files in quality_issues.items():\n",
    "    print(f'{issue_type.replace("_", " ").title()}: {len(files)} files')\n",
    "    if files:\n",
    "        print(f'  Examples: {files[:3]}')"
   ]
  },
  {
   "cell_type": "markdown",
   "metadata": {},
   "source": [
    "## Summary\n",
    "\n",
    "This exploration provides insights into:\n",
    "- Dataset composition and structure\n",
    "- Image properties and distributions\n",
    "- Class balance across splits\n",
    "- Data quality assessment\n",
    "\n",
    "Use these insights to inform preprocessing and model training decisions."
   ]
  }
 ],
 "metadata": {
  "kernelspec": {
   "display_name": "Python 3",
   "language": "python",
   "name": "python3"
  },
  "language_info": {
   "codemirror_mode": {
    "name": "ipython",
    "version": 3
   },
   "file_extension": ".py",
   "name": "python",
   "nbconvert_exporter": "python",
   "pygments_lexer": "ipython3",
   "version": "3.8.0"
  }
 },
 "nbformat": 4,
 "nbformat_minor": 4
}